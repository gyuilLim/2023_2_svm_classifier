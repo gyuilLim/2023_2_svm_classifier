{
 "cells": [
  {
   "cell_type": "code",
   "execution_count": 1,
   "metadata": {},
   "outputs": [],
   "source": [
    "from glob import glob\n",
    "import pandas as pd\n",
    "import numpy as np\n",
    "import cv2\n",
    "import matplotlib.pyplot as plt\n",
    "from tqdm import tqdm"
   ]
  },
  {
   "cell_type": "code",
   "execution_count": 4,
   "metadata": {},
   "outputs": [],
   "source": [
    "## 경로 설정\n",
    "test_csv = '../archive/fashion-mnist_test.csv'\n",
    "label_txt = '/home/vision/gyuil/3-2/머신러닝/svm/팀프로젝트자료/public_test_dataset/label.txt'\n",
    "private_test_img_dir_path = '/home/vision/gyuil/3-2/머신러닝/svm/팀프로젝트자료/public_test_dataset/data'"
   ]
  },
  {
   "cell_type": "code",
   "execution_count": 5,
   "metadata": {},
   "outputs": [],
   "source": [
    "test = pd.read_csv(test_csv)\n",
    "\n",
    "df = pd.DataFrame(columns=list(test.columns))\n",
    "\n",
    "with open(label_txt, 'r') as file1:\n",
    "    labels = file1.readlines()\n",
    "    \n",
    "l = np.array([label.strip().split()[1] for label in labels])"
   ]
  },
  {
   "cell_type": "code",
   "execution_count": 10,
   "metadata": {},
   "outputs": [],
   "source": [
    "img_path = glob(private_test_img_dir_path + '/*')\n",
    "img_path = sorted(img_path)\n",
    "\n",
    "df_list = []\n",
    "for idx, path in enumerate(img_path) :\n",
    "    img = cv2.imread(path, cv2.IMREAD_GRAYSCALE)\n",
    "    img = list(img.reshape(-1))\n",
    "    img.insert(0, l[idx])\n",
    "    \n",
    "    df_list.append(img)"
   ]
  },
  {
   "cell_type": "code",
   "execution_count": 11,
   "metadata": {},
   "outputs": [],
   "source": [
    "import csv\n",
    "\n",
    "csv_file_path = './fashion-mnist_public_test.csv'\n",
    "\n",
    "df.to_csv(csv_file_path, index=False)\n",
    "with open(csv_file_path, 'a', newline='') as csvfile:\n",
    "    csv_writer = csv.writer(csvfile)\n",
    "\n",
    "    # 각 행을 CSV 파일에 쓰기\n",
    "    for row in df_list:\n",
    "        csv_writer.writerow(row)"
   ]
  },
  {
   "cell_type": "code",
   "execution_count": null,
   "metadata": {},
   "outputs": [],
   "source": []
  },
  {
   "cell_type": "code",
   "execution_count": null,
   "metadata": {},
   "outputs": [],
   "source": []
  }
 ],
 "metadata": {
  "kernelspec": {
   "display_name": "Python 3",
   "language": "python",
   "name": "python3"
  },
  "language_info": {
   "codemirror_mode": {
    "name": "ipython",
    "version": 3
   },
   "file_extension": ".py",
   "mimetype": "text/x-python",
   "name": "python",
   "nbconvert_exporter": "python",
   "pygments_lexer": "ipython3",
   "version": "3.8.10"
  },
  "orig_nbformat": 4
 },
 "nbformat": 4,
 "nbformat_minor": 2
}
